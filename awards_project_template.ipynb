{
 "cells": [
  {
   "cell_type": "markdown",
   "metadata": {
    "tags": []
   },
   "source": [
    "# Name: Collins Iwunze\n",
    "### Date: 08/21/23"
   ]
  },
  {
   "cell_type": "markdown",
   "metadata": {},
   "source": [
    "<style>\n",
    ".jp-Notebook {\n",
    "    padding: var(--jp-notebook-padding);\n",
    "    margin-left: 160px;\n",
    "    outline: none;\n",
    "    overflow: auto;\n",
    "    background: var(--jp-layout-color0);\n",
    "}\n",
    "</style>"
   ]
  },
  {
   "cell_type": "markdown",
   "metadata": {},
   "source": [
    "<img src=\"https://cdn.nba.com/logos/nba/1610612760/primary/L/logo.svg\" alt=\"logo\" style=\"position: fixed; top: -40px; left: 5px; height: 250px;\">"
   ]
  },
  {
   "cell_type": "markdown",
   "metadata": {
    "jp-MarkdownHeadingCollapsed": true,
    "tags": []
   },
   "source": [
    "# Introduction  \n",
    "\n",
    "The purpose of this project is to gauge your technical skills and problem solving ability by working through something similar to a real NBA data science project. You will work your way through this jupyter notebook, answering questions as you go along. Please begin by adding your name to the top markdown chunk in this document. When you're finished with the document, come back and type your answers into the answer key at the top. Please leave all your work below and have your answers where indicated below as well. Please note that we will be reviewing your code so make it clear, concise and avoid long printouts. Feel free to add in as many new code chunks as you'd like.\n",
    "\n",
    "Remember that we will be grading the quality of your code and visuals alongside the correctness of your answers. Please try to use packages like pandas/numpy and matplotlib/seaborn as much as possible (instead of base python data manipulations and explicit loops.)  \n",
    "\n",
    "**WARNING:** Your project will **ONLY** be graded if it's knit to an HTML document where we can see your code. Be careful to make sure that any long lines of code appropriately visibly wrap around visibly to the next line, as code that's cut off from the side of the document cannot be graded.  \n",
    "\n",
    "**Note:**    \n",
    "\n",
    "**Throughout this document, any `season` column represents the year each season started. For example, the 2015-16 season will be in the dataset as 2015. For most of the rest of the project, we will refer to a season by just this number (e.g. 2015) instead of the full text (e.g. 2015-16).** "
   ]
  },
  {
   "cell_type": "markdown",
   "metadata": {},
   "source": [
    "# Answers  \n",
    "\n",
    "## Part 1      \n",
    "\n",
    "**Question 1:**   \n",
    "\n",
    "- 1st Team: 22.7 points per game  \n",
    "- 2nd Team: 20.2 points per game  \n",
    "- 3rd Team: 18.1 points per game  \n",
    "- All-Star: 19.4 points per game   \n",
    "\n",
    "**Question 2:** 4.7 Years  \n",
    "\n",
    "**Question 3:** \n",
    "\n",
    "- Elite: 3 players.  \n",
    "- All-Star: 4 players.  \n",
    "- Starter: 31 players.  \n",
    "- Rotation: 25 players.  \n",
    "- Roster: 27 players.  \n",
    "- Out of League: 0 players.  \n",
    "\n",
    "**Open Ended Modeling Question:** Please show your work and leave all responses below in the document.\n",
    "\n",
    "\n",
    "## Part 2  \n",
    "\n",
    "**Question 1:** 34.7%   \n",
    "**Question 2:** Written question, put answer below in the document.    \n",
    "**Question 3:** Written question, put answer below in the document.    \n",
    "  \n"
   ]
  },
  {
   "cell_type": "markdown",
   "metadata": {},
   "source": [
    "# Setup and Data    "
   ]
  },
  {
   "cell_type": "code",
   "execution_count": 2,
   "metadata": {},
   "outputs": [],
   "source": [
    "import pandas as pd\n",
    "# Note you will likely have to change these paths. \n",
    "# If your data is in the same folder as this project, \n",
    "# the paths will likely be fixed for you by deleting ../../Data/awards_project/ from each string.\n",
    "awards = pd.read_csv(\"../../Data/awards_project/awards_data.csv\")\n",
    "player_data = pd.read_csv(\"../../Data/awards_project/player_stats.csv\")\n",
    "team_data = pd.read_csv(\"../../Data/awards_project/team_stats.csv\")\n",
    "rebounding_data = pd.read_csv(\"../../Data/awards_project/team_rebounding_data_22.csv\")"
   ]
  },
  {
   "cell_type": "markdown",
   "metadata": {},
   "source": [
    "## Part 1 -- Awards  \n",
    "\n",
    "In this section, you're going to work with data relating to player awards and statistics. You'll start with some data manipulation questions and work towards building a model to predict broad levels of career success.  \n"
   ]
  },
  {
   "cell_type": "markdown",
   "metadata": {},
   "source": [
    "### Question 1  \n",
    "\n",
    "**QUESTION:** What is the average number of points per game for players in the 2007-2021 seasons who won All NBA First, Second, and Third teams (**not** the All Defensive Teams), as well as for players who were in the All-Star Game (**not** the rookie all-star game)?\n",
    "\n",
    "\n",
    " "
   ]
  },
  {
   "cell_type": "code",
   "execution_count": null,
   "metadata": {},
   "outputs": [],
   "source": []
  },
  {
   "cell_type": "markdown",
   "metadata": {},
   "source": [
    "<strong><span style=\"color:red\">ANSWER 1:</span></strong>   \n",
    "\n",
    "1st Team: 22.7 points per game\n",
    "2nd Team: 20.2 points per game\n",
    "3rd Team: 18.1 points per game\n",
    "All-Star: 19.4 points per game"
   ]
  },
  {
   "cell_type": "markdown",
   "metadata": {},
   "source": [
    "### Question 2  \n",
    "\n",
    "**QUESTION:** What was the average number of years of experience in the league it takes for players to make their first All NBA Selection (1st, 2nd, or 3rd team)? Please limit your sample to players drafted in 2007 or later who did eventually go on to win at least one All NBA selection. For example:\n",
    "\n",
    "- Luka Doncic is in the dataset as 2 years. He was drafted in 2018 and won his first All NBA award in 2019 (which was his second season).  \n",
    "- LeBron James is not in this dataset, as he was drafted prior to 2007.  \n",
    "- Lu Dort is not in this dataset, as he has not received any All NBA honors.  \n",
    "\n"
   ]
  },
  {
   "cell_type": "code",
   "execution_count": null,
   "metadata": {
    "collapsed": true,
    "jupyter": {
     "outputs_hidden": true
    }
   },
   "outputs": [],
   "source": []
  },
  {
   "cell_type": "markdown",
   "metadata": {},
   "source": [
    "<strong><span style=\"color:red\">ANSWER 2:</span></strong>  \n",
    "\n",
    "4.7 Years  "
   ]
  },
  {
   "cell_type": "markdown",
   "metadata": {},
   "source": [
    "## Data Cleaning Interlude  \n",
    "\n",
    "You're going to work to create a dataset with a \"career outcome\" for each player, representing the highest level of success that the player achieved for **at least two** seasons *after his first four seasons in the league* (examples to follow below!). To do this, you'll start with single season level outcomes. On a single season level, the outcomes are:  \n",
    "\n",
    "- Elite: A player is \"Elite\" in a season if he won any All NBA award (1st, 2nd, or 3rd team), MVP, or DPOY in that season.    \n",
    "- All-Star: A player is \"All-Star\" in a season if he was selected to be an All-Star that season.   \n",
    "- Starter:  A player is a \"Starter\" in a season if he started in at least 41 games in the season OR if he played at least 2000 minutes in the season.    \n",
    "- Rotation:  A player is a \"Rotation\" player in a season if he played at least 1000 minutes in the season.   \n",
    "- Roster:  A player is a \"Roster\" player in a season if he played at least 1 minute for an NBA team but did not meet any of the above criteria.     \n",
    "- Out of the League: A player is \"Out of the League\" if he is not in the NBA in that season.   \n",
    "\n",
    "We need to make an adjustment for determining Starter/Rotation qualifications for a few seasons that didn't have 82 games per team. Assume that there were 66 possible games in the 2011 lockout season and 72 possible games in each of the 2019 and 2020 seasons that were shortened due to covid. Specifically, if a player played 900 minutes in 2011, he **would** meet the rotation criteria because his final minutes would be considered to be 900 * (82/66) = 1118. Please use this math for both minutes and games started, so a player who started 38 games in 2019 or 2020 would be considered to have started 38 * (82/72) = 43 games, and thus would qualify for starting 41. Any answers should be calculated assuming you round the multiplied values to the nearest whole number.\n",
    "\n",
    "Note that on a season level, a player's outcome is the highest level of success he qualifies for in that season. Thus, since Shai Gilgeous-Alexander was both All-NBA 1st team and an All-Star last year, he would be considered to be \"Elite\" for the 2022 season, but would still qualify for a career outcome of All-Star if in the rest of his career he made one more All-Star game but no more All-NBA teams. Note this is a hypothetical, and Shai has not yet played enough to have a career outcome.    \n",
    "\n",
    "Examples:  \n",
    "\n",
    "- A player who enters the league as a rookie and has season outcomes of Roster (1), Rotation (2), Rotation (3), Roster (4), Roster (5), Out of the League (6+) would be considered \"Out of the League,\" because after his first four seasons, he only has a single Roster year, which does not qualify him for any success outcome.  \n",
    "- A player who enters the league as a rookie and has season outcomes of Roster (1), Rotation (2), Starter (3), Starter (4), Starter (5), Starter (6), All-Star (7), Elite (8), Starter (9) would be considered \"All-Star,\" because he had at least two seasons after his first four at all-star level of production or higher.  \n",
    "- A player who enters the league as a rookie and has season outcomes of Roster (1), Rotation (2), Starter (3), Starter (4), Starter (5), Starter (6), Rotation (7), Rotation (8), Roster (9) would be considered a \"Starter\" because he has two seasons after his first four at a starter level of production. \n"
   ]
  },
  {
   "cell_type": "markdown",
   "metadata": {},
   "source": [
    "### Question 3  \n",
    "\n",
    "**QUESTION:** There are 73 players in the `player_data` dataset who have 2010 listed as their draft year. How many of those players have a **career** outcome in each of the 6 buckets?  "
   ]
  },
  {
   "cell_type": "code",
   "execution_count": null,
   "metadata": {
    "collapsed": true,
    "jupyter": {
     "outputs_hidden": true
    }
   },
   "outputs": [],
   "source": []
  },
  {
   "cell_type": "markdown",
   "metadata": {},
   "source": [
    "<strong><span style=\"color:red\">ANSWER 3:</span></strong>  \n",
    "\n",
    "Elite: 3 players.  \n",
    "All-Star: 4 players.  \n",
    "Starter: 31 players.  \n",
    "Rotation: 25 players.  \n",
    "Roster: 27 players.  \n",
    "Out of League: 0 players.  "
   ]
  },
  {
   "cell_type": "markdown",
   "metadata": {},
   "source": [
    "### Open Ended Modeling Question   \n",
    "\n",
    "In this question, you will work to build a model to predict a player's career outcome based on information up through the first four years of his career. \n",
    "\n",
    "This question is intentionally left fairly open ended, but here are some notes and specifications.  \n",
    "\n",
    "1. We know modeling questions can take a long time, and that qualified candidates will have different levels of experience with \"formal\" modeling. Don't be discouraged. It's not our intention to make you spend excessive time here. If you get your model to a good spot but think you could do better by spending a lot more time, you can just write a bit about your ideas for future improvement and leave it there. Further, we're more interested in your thought process and critical thinking than we are in specific modeling techniques. Using smart features is more important than using fancy mathematical machinery, and a successful candidate could use a simple regression approach. \n",
    "\n",
    "2. You may use any data provided in this project, but please do not bring in any external sources of data. Note that while most of the data provided goes back to 2007, All NBA and All Rookie team voting is only included back to 2011.  \n",
    "\n",
    "3. A player needs to complete three additional seasons after their first four to be considered as having a distinct career outcome for our dataset. Because the dataset in this project ends in 2021, this means that a player would need to have had the chance to play in the '21, '20, and '19 seasons after his first four years, and thus his first four years would have been '18, '17, '16, and '15. **For this reason, limit your training data to players who were drafted in or before the 2015 season.** Karl-Anthony Towns was the #1 pick in that season.  \n",
    "\n",
    "4. Once you build your model, predict on all players who were drafted in 2018-2021 (They have between 1 and 4 seasons of data available and have not yet started accumulating seasons that inform their career outcome).  \n",
    "\n",
    "5. You can predict a single career outcome for each player, but it's better if you can predict the probability that each player falls into each outcome bucket.    \n",
    "\n",
    "6. Include, as part of your answer:  \n",
    "  - A brief written overview of how your model works, targeted towards a decision maker in the front office without a strong statistical background. \n",
    "  - What you view as the strengths and weaknesses of your model.  \n",
    "  - How you'd address the weaknesses if you had more time and or more data.  \n",
    "  - A matplotlib or plotly visualization highlighting some part of your modeling process, the model itself, or your results.  \n",
    "  - Your predictions for Shai Gilgeous-Alexander, Zion Williamson, James Wiseman, and Josh Giddey.  \n",
    "  - (Bonus!) An html table (for example, see the package `reactable`) containing all predictions for the players drafted in 2019-2021.  \n",
    "\n"
   ]
  },
  {
   "cell_type": "markdown",
   "metadata": {},
   "source": [
    "The model will use the points each players has through the season to help predict his success. The growth of the amounts of points will increase his success. There are other variables that encompass the success of a player, but without clear variables to determine such success, I went with the most obvious variable. There is still some work the model besides the variable aspects. The model type could also be changed from a linear regression to a mult-logistic regression or other types.\n",
    "The model is in folder and titled \"model_career_outcome\""
   ]
  },
  {
   "cell_type": "markdown",
   "metadata": {},
   "source": [
    "## Part 2 -- Predicting Team Stats  \n",
    "\n",
    "In this section, we're going to introduce a simple way to predict team offensive rebound percent in the next game and then discuss ways to improve those predictions.  \n",
    " \n",
    "### Question 1   \n",
    "\n",
    "Using the `rebounding_data` dataset, we'll predict a team's next game's offensive rebounding percent to be their average offensive rebounding percent in all prior games. On a single game level, offensive rebounding percent is the number of offensive rebounds divided by their number offensive rebound \"chances\" (essentially the team's missed shots). On a multi-game sample, it should be the total number of offensive rebounds divided by the total number of offensive rebound chances.    \n",
    "\n",
    "Please calculate what OKC's predicted offensive rebound percent is for game 81 in the data. That is, use games 1-80 to predict game 81.  "
   ]
  },
  {
   "cell_type": "code",
   "execution_count": null,
   "metadata": {
    "collapsed": true,
    "jupyter": {
     "outputs_hidden": true
    }
   },
   "outputs": [],
   "source": []
  },
  {
   "cell_type": "markdown",
   "metadata": {},
   "source": [
    "<strong><span style=\"color:red\">ANSWER 1:</span></strong>  \n",
    "\n",
    "34.7% "
   ]
  },
  {
   "cell_type": "markdown",
   "metadata": {},
   "source": [
    "### Question 2  \n",
    "\n",
    "There are a few limitations to the method we used above. For example, if a team has a great offensive rebounder who has played in most games this season but will be out due to an injury for the next game, we might reasonably predict a lower team offensive rebound percent for the next game.  \n",
    "\n",
    "Please discuss how you would think about changing our original model to better account for missing players. You do not have to write any code or implement any changes, and you can assume you have access to any reasonable data that isn't provided in this project. Try to be clear and concise with your answer.  "
   ]
  },
  {
   "cell_type": "markdown",
   "metadata": {},
   "source": [
    "<strong><span style=\"color:red\">ANSWER 2:</span></strong>  "
   ]
  },
  {
   "cell_type": "markdown",
   "metadata": {},
   "source": [
    "For this scenario, the change of the model would have to incorporate individual players offensive rebounding stats. With the inclusion of this information, the model can make prediction of overall team offensive rebounds based off the individual rebounds. Then in a situation where the leading offensive rebounder for the team is out, the model can predict with just the information of the other teammates. "
   ]
  },
  {
   "cell_type": "markdown",
   "metadata": {},
   "source": [
    "### Question 3  \n",
    "\n",
    "In question 2, you saw and discussed how to deal with one weakness of the model. For this question, please write about 1-3 other potential weaknesses of the simple average model you made in question 1 and discuss how you would deal with each of them. You may either explain a weakness and discuss how you'd fix that weakness, then move onto the next issue, or you can start by explaining multiple weaknesses with the original approach and discuss one overall modeling methodology you'd use that gets around most or all of them. Again, you do not need to write any code or implement any changes, and you can assume you have access to any reasonable data that isn't provided in this project. Try to be clear and concise with your answer.  \n"
   ]
  },
  {
   "cell_type": "markdown",
   "metadata": {},
   "source": [
    "<strong><span style=\"color:red\">ANSWER 3:</span></strong>  "
   ]
  },
  {
   "cell_type": "markdown",
   "metadata": {},
   "source": [
    "The other potential weakness of this model is not incorporating the oppenent team's defensive capablity. In a scenario where the oppenent's defensive skills are above most other's in the league, there are higher chances of contested shots, which increases chances of rebounds from missed shots. Also the opponent could have an overwhelming amount of defensive rebounds to the team's offensive rebounds."
   ]
  }
 ],
 "metadata": {
  "kernelspec": {
   "display_name": "Python 3",
   "language": "python",
   "name": "python3"
  },
  "language_info": {
   "codemirror_mode": {
    "name": "ipython",
    "version": 3
   },
   "file_extension": ".py",
   "mimetype": "text/x-python",
   "name": "python",
   "nbconvert_exporter": "python",
   "pygments_lexer": "ipython3",
   "version": "3.7.4"
  }
 },
 "nbformat": 4,
 "nbformat_minor": 4
}
